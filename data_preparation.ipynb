{
  "nbformat": 4,
  "nbformat_minor": 0,
  "metadata": {
    "colab": {
      "provenance": []
    },
    "kernelspec": {
      "name": "python3",
      "display_name": "Python 3"
    },
    "language_info": {
      "name": "python"
    }
  },
  "cells": [
    {
      "cell_type": "markdown",
      "source": [
        "## Imports"
      ],
      "metadata": {
        "id": "2KNX11efUiRY"
      }
    },
    {
      "cell_type": "code",
      "source": [
        "import pandas as pd\n",
        "from collections import Counter\n",
        "from nltk.corpus import stopwords\n",
        "from nltk.tokenize import word_tokenize\n",
        "from nltk import pos_tag\n",
        "from sklearn.feature_extraction.text import TfidfVectorizer\n",
        "from nltk.stem import WordNetLemmatizer"
      ],
      "metadata": {
        "id": "goKeyqDYRira"
      },
      "execution_count": null,
      "outputs": []
    },
    {
      "cell_type": "code",
      "source": [
        "nltk.download('punkt')\n",
        "nltk.download('punkt_tab')\n",
        "nltk.download('stopwords')\n",
        "nltk.download('wordnet')\n",
        "nltk.download('averaged_perceptron_tagger_eng')"
      ],
      "metadata": {
        "colab": {
          "base_uri": "https://localhost:8080/"
        },
        "id": "mzKDI-uHTO1a",
        "outputId": "b1c5ea94-03d6-4922-fe16-030766b58afc"
      },
      "execution_count": null,
      "outputs": [
        {
          "output_type": "stream",
          "name": "stderr",
          "text": [
            "[nltk_data] Downloading package punkt to /root/nltk_data...\n",
            "[nltk_data]   Package punkt is already up-to-date!\n",
            "[nltk_data] Downloading package punkt_tab to /root/nltk_data...\n",
            "[nltk_data]   Package punkt_tab is already up-to-date!\n",
            "[nltk_data] Downloading package stopwords to /root/nltk_data...\n",
            "[nltk_data]   Package stopwords is already up-to-date!\n",
            "[nltk_data] Downloading package wordnet to /root/nltk_data...\n",
            "[nltk_data]   Package wordnet is already up-to-date!\n",
            "[nltk_data] Downloading package averaged_perceptron_tagger_eng to\n",
            "[nltk_data]     /root/nltk_data...\n",
            "[nltk_data]   Package averaged_perceptron_tagger_eng is already up-to-\n",
            "[nltk_data]       date!\n"
          ]
        },
        {
          "output_type": "execute_result",
          "data": {
            "text/plain": [
              "True"
            ]
          },
          "metadata": {},
          "execution_count": 48
        }
      ]
    },
    {
      "cell_type": "markdown",
      "source": [
        "## Data loading"
      ],
      "metadata": {
        "id": "RyFQ0GveUmxS"
      }
    },
    {
      "cell_type": "code",
      "source": [
        "file_name = \"train_with_summaries.csv\"  # File name is predefined\n",
        "df = pd.read_csv(file_name)"
      ],
      "metadata": {
        "id": "NZNHwxmGPyF5"
      },
      "execution_count": null,
      "outputs": []
    },
    {
      "cell_type": "markdown",
      "source": [
        "## Method1 (Counter + NLTK stopwords)"
      ],
      "metadata": {
        "id": "KihEnXN1Upuy"
      }
    },
    {
      "cell_type": "code",
      "source": [
        "def extract_keywords(text, n=5):\n",
        "    stop_words = set(stopwords.words('english'))  # Define stopwords\n",
        "    words = word_tokenize(text.lower())  # Tokenize and convert to lowercase\n",
        "    filtered_words = [word for word in words if word.isalpha() and word not in stop_words]  # Remove stopwords and non-alphabetic words\n",
        "    word_counts = Counter(filtered_words)  # Count word frequencies\n",
        "    return [word for word, _ in word_counts.most_common(n)]  # Return top n keywords"
      ],
      "metadata": {
        "id": "YbV_qkl9TSYl"
      },
      "execution_count": null,
      "outputs": []
    },
    {
      "cell_type": "code",
      "source": [
        "df['keywords_counter_top5'] = df['text'].apply(lambda x: extract_keywords(x))\n",
        "df['keywords_counter_top3'] = df['keywords_counter_top5'].apply(lambda keywords: keywords[:3])"
      ],
      "metadata": {
        "id": "rf63Jx9LTbcl"
      },
      "execution_count": null,
      "outputs": []
    },
    {
      "cell_type": "markdown",
      "source": [
        "# Method2 (TF-IDF matrix + NLTK stopwords + lemmatization + name filtering)"
      ],
      "metadata": {
        "id": "1KtYONN_GHFB"
      }
    },
    {
      "cell_type": "code",
      "source": [
        "def get_wordnet_pos(treebank_tag):\n",
        "    \"\"\"Convert Treebank POS tags to WordNet POS tags for lemmatization.\"\"\"\n",
        "    if treebank_tag.startswith('J'):\n",
        "        return 'a'  # Adjective\n",
        "    elif treebank_tag.startswith('V'):\n",
        "        return 'v'  # Verb\n",
        "    elif treebank_tag.startswith('N'):\n",
        "        return 'n'  # Noun\n",
        "    elif treebank_tag.startswith('R'):\n",
        "        return 'r'  # Adverb\n",
        "    else:\n",
        "        return 'n'  # Default to noun"
      ],
      "metadata": {
        "id": "t95COaOU41qV"
      },
      "execution_count": null,
      "outputs": []
    },
    {
      "cell_type": "code",
      "source": [
        "def preprocess_text_for_tfidf(text, only_nouns=False):\n",
        "    stop_words = set(stopwords.words('english'))\n",
        "    lemmatizer = WordNetLemmatizer()\n",
        "    words = word_tokenize(text)\n",
        "\n",
        "    # Perform POS tagging\n",
        "    pos_tags = pos_tag(words)\n",
        "\n",
        "    if only_nouns:\n",
        "        # Keep only nouns\n",
        "        pos_tags = [(word, tag) for word, tag in pos_tags if word.isalpha() and tag.startswith('NN') and not word[0].isupper()]\n",
        "    else:\n",
        "        # Filter words based on criteria\n",
        "        pos_tags = [(word, tag) for word, tag in pos_tags if word.isalpha() and not word[0].isupper()]\n",
        "\n",
        "    # Lemmatize words based on their POS tags\n",
        "    lemmatized_words = [lemmatizer.lemmatize(word.lower(), pos=get_wordnet_pos(tag))\n",
        "                        for word, tag in pos_tags if word.lower() not in stop_words]\n",
        "\n",
        "    return \" \".join(lemmatized_words)"
      ],
      "metadata": {
        "id": "ehgv4O8Oip5L"
      },
      "execution_count": null,
      "outputs": []
    },
    {
      "cell_type": "code",
      "source": [
        "def compute_tfidf(df, column_name):\n",
        "    vectorizer = TfidfVectorizer(stop_words='english')\n",
        "    tfidf_matrix = vectorizer.fit_transform(df[column_name])\n",
        "    feature_names = vectorizer.get_feature_names_out()\n",
        "    return tfidf_matrix, feature_names"
      ],
      "metadata": {
        "id": "eudoOsp8m60J"
      },
      "execution_count": null,
      "outputs": []
    },
    {
      "cell_type": "code",
      "source": [
        "def extract_keywords_from_tfidf(tfidf_matrix, feature_names, doc_index, n=3):\n",
        "    tfidf_scores = tfidf_matrix[doc_index].toarray()[0]  # Get TF-IDF scores for the specific document\n",
        "    scored_keywords = list(zip(feature_names, tfidf_scores))\n",
        "    sorted_keywords = sorted(scored_keywords, key=lambda x: x[1], reverse=True)  # Sort by TF-IDF score\n",
        "    return [word for word, _ in sorted_keywords[:n]]  # Return top n keywords"
      ],
      "metadata": {
        "id": "THazKCgjnGkq"
      },
      "execution_count": null,
      "outputs": []
    },
    {
      "cell_type": "code",
      "source": [
        "# Processed text columns\n",
        "columns_to_process = {\n",
        "    'td_idf': False,  # For full text\n",
        "    'td_idf_only_nouns': True  # For nouns only\n",
        "}\n",
        "\n",
        "for column, only_nouns in columns_to_process.items():\n",
        "    df[column] = df['text'].apply(lambda x: preprocess_text_for_tfidf(x, only_nouns=only_nouns))\n",
        "\n",
        "# Compute TF-IDF matrices\n",
        "tfidf_data = {\n",
        "    column: compute_tfidf(df, column) for column in columns_to_process.keys()\n",
        "}\n",
        "\n",
        "# Add keyword extraction results and most common words to DataFrame\n",
        "for column, (tfidf_matrix, feature_names) in tfidf_data.items():\n",
        "    keyword_column_5 = f\"keywords_{column}_top5\"\n",
        "    df[keyword_column_5] = [extract_keywords_from_tfidf(tfidf_matrix, feature_names, i, n=5) for i in range(len(df))]\n",
        "\n",
        "    # Generate top 3 keywords by slicing the top 5 keywords\n",
        "    keyword_column_3 = f\"keywords_{column}_top3\"\n",
        "    df[keyword_column_3] = df[keyword_column_5].apply(lambda keywords: keywords[:3])"
      ],
      "metadata": {
        "id": "RCwlEiOanZTd"
      },
      "execution_count": null,
      "outputs": []
    },
    {
      "cell_type": "code",
      "source": [
        "output_file = \"stories_summaries_keywords.csv\"\n",
        "df.to_csv(output_file, index=False)"
      ],
      "metadata": {
        "id": "Dz8sL11PVwmh"
      },
      "execution_count": null,
      "outputs": []
    },
    {
      "cell_type": "code",
      "source": [
        "df.head()"
      ],
      "metadata": {
        "colab": {
          "base_uri": "https://localhost:8080/",
          "height": 781
        },
        "id": "k0NYy6A8GRYT",
        "outputId": "e30e7f9d-50b9-4109-8852-3d106924fec6"
      },
      "execution_count": null,
      "outputs": [
        {
          "output_type": "execute_result",
          "data": {
            "text/plain": [
              "                                                text  \\\n",
              "0  One day, a little girl named Lily found a need...   \n",
              "1  Once upon a time, there was a little car named...   \n",
              "2  One day, a little fish named Fin was swimming ...   \n",
              "3  Once upon a time, in a land full of trees, the...   \n",
              "4  Once upon a time, there was a little girl name...   \n",
              "\n",
              "                                             summary  \\\n",
              "0  Lily, a little girl, and her mother successful...   \n",
              "1  A happy little car named Beep, fueled by good ...   \n",
              "2  A little fish named Fin befriends a crab who i...   \n",
              "3  A small, weak cherry tree finds happiness and ...   \n",
              "4  A young girl named Lily, along with her cat an...   \n",
              "\n",
              "                 keywords_counter_top5  keywords_counter_top3  \\\n",
              "0    [lily, needle, mom, shirt, share]    [lily, needle, mom]   \n",
              "1       [beep, fuel, leaves, go, play]   [beep, fuel, leaves]   \n",
              "2       [fin, feel, crab, sun, little]      [fin, feel, crab]   \n",
              "3  [cherry, tree, trees, little, wind]  [cherry, tree, trees]   \n",
              "4      [lily, cobweb, lived, cat, dog]  [lily, cobweb, lived]   \n",
              "\n",
              "                                              td_idf  \\\n",
              "0  day little girl name find needle room know dif...   \n",
              "1  upon time little car name love go fast play su...   \n",
              "2  day little fish name swim near shore saw big c...   \n",
              "3  upon time land full tree little cherry tree ch...   \n",
              "4  upon time little girl name like pretend popula...   \n",
              "\n",
              "                                   td_idf_only_nouns  \\\n",
              "0  day girl needle room share needle mom button s...   \n",
              "1  time car sun car fuel fuel day park tree tree ...   \n",
              "2  day fish shore crab friend fish crab crab feel...   \n",
              "3  time land tree tree cherry tree friend tree ch...   \n",
              "4  time girl princess castle friend cat dog day c...   \n",
              "\n",
              "                     keywords_td_idf_top5    keywords_td_idf_top3  \\\n",
              "0  [needle, shirt, share, sew, difficult]  [needle, shirt, share]   \n",
              "1       [fuel, leaf, fall, healthy, tree]      [fuel, leaf, fall]   \n",
              "2           [crab, fine, feel, sun, fish]      [crab, fine, feel]   \n",
              "3      [cherry, tree, wind, land, spring]    [cherry, tree, wind]   \n",
              "4      [cobweb, spider, cat, dog, castle]   [cobweb, spider, cat]   \n",
              "\n",
              "       keywords_td_idf_only_nouns_top5 keywords_td_idf_only_nouns_top3  \n",
              "0  [shirt, needle, share, button, mom]          [shirt, needle, share]  \n",
              "1       [fuel, leaf, tree, car, drove]              [fuel, leaf, tree]  \n",
              "2       [crab, fish, sun, shore, feel]               [crab, fish, sun]  \n",
              "3   [cherry, tree, wind, land, tickle]            [cherry, tree, wind]  \n",
              "4   [cobweb, spider, cat, dog, castle]           [cobweb, spider, cat]  "
            ],
            "text/html": [
              "\n",
              "  <div id=\"df-8edf2abe-a158-45b9-b12b-f37409866ca3\" class=\"colab-df-container\">\n",
              "    <div>\n",
              "<style scoped>\n",
              "    .dataframe tbody tr th:only-of-type {\n",
              "        vertical-align: middle;\n",
              "    }\n",
              "\n",
              "    .dataframe tbody tr th {\n",
              "        vertical-align: top;\n",
              "    }\n",
              "\n",
              "    .dataframe thead th {\n",
              "        text-align: right;\n",
              "    }\n",
              "</style>\n",
              "<table border=\"1\" class=\"dataframe\">\n",
              "  <thead>\n",
              "    <tr style=\"text-align: right;\">\n",
              "      <th></th>\n",
              "      <th>text</th>\n",
              "      <th>summary</th>\n",
              "      <th>keywords_counter_top5</th>\n",
              "      <th>keywords_counter_top3</th>\n",
              "      <th>td_idf</th>\n",
              "      <th>td_idf_only_nouns</th>\n",
              "      <th>keywords_td_idf_top5</th>\n",
              "      <th>keywords_td_idf_top3</th>\n",
              "      <th>keywords_td_idf_only_nouns_top5</th>\n",
              "      <th>keywords_td_idf_only_nouns_top3</th>\n",
              "    </tr>\n",
              "  </thead>\n",
              "  <tbody>\n",
              "    <tr>\n",
              "      <th>0</th>\n",
              "      <td>One day, a little girl named Lily found a need...</td>\n",
              "      <td>Lily, a little girl, and her mother successful...</td>\n",
              "      <td>[lily, needle, mom, shirt, share]</td>\n",
              "      <td>[lily, needle, mom]</td>\n",
              "      <td>day little girl name find needle room know dif...</td>\n",
              "      <td>day girl needle room share needle mom button s...</td>\n",
              "      <td>[needle, shirt, share, sew, difficult]</td>\n",
              "      <td>[needle, shirt, share]</td>\n",
              "      <td>[shirt, needle, share, button, mom]</td>\n",
              "      <td>[shirt, needle, share]</td>\n",
              "    </tr>\n",
              "    <tr>\n",
              "      <th>1</th>\n",
              "      <td>Once upon a time, there was a little car named...</td>\n",
              "      <td>A happy little car named Beep, fueled by good ...</td>\n",
              "      <td>[beep, fuel, leaves, go, play]</td>\n",
              "      <td>[beep, fuel, leaves]</td>\n",
              "      <td>upon time little car name love go fast play su...</td>\n",
              "      <td>time car sun car fuel fuel day park tree tree ...</td>\n",
              "      <td>[fuel, leaf, fall, healthy, tree]</td>\n",
              "      <td>[fuel, leaf, fall]</td>\n",
              "      <td>[fuel, leaf, tree, car, drove]</td>\n",
              "      <td>[fuel, leaf, tree]</td>\n",
              "    </tr>\n",
              "    <tr>\n",
              "      <th>2</th>\n",
              "      <td>One day, a little fish named Fin was swimming ...</td>\n",
              "      <td>A little fish named Fin befriends a crab who i...</td>\n",
              "      <td>[fin, feel, crab, sun, little]</td>\n",
              "      <td>[fin, feel, crab]</td>\n",
              "      <td>day little fish name swim near shore saw big c...</td>\n",
              "      <td>day fish shore crab friend fish crab crab feel...</td>\n",
              "      <td>[crab, fine, feel, sun, fish]</td>\n",
              "      <td>[crab, fine, feel]</td>\n",
              "      <td>[crab, fish, sun, shore, feel]</td>\n",
              "      <td>[crab, fish, sun]</td>\n",
              "    </tr>\n",
              "    <tr>\n",
              "      <th>3</th>\n",
              "      <td>Once upon a time, in a land full of trees, the...</td>\n",
              "      <td>A small, weak cherry tree finds happiness and ...</td>\n",
              "      <td>[cherry, tree, trees, little, wind]</td>\n",
              "      <td>[cherry, tree, trees]</td>\n",
              "      <td>upon time land full tree little cherry tree ch...</td>\n",
              "      <td>time land tree tree cherry tree friend tree ch...</td>\n",
              "      <td>[cherry, tree, wind, land, spring]</td>\n",
              "      <td>[cherry, tree, wind]</td>\n",
              "      <td>[cherry, tree, wind, land, tickle]</td>\n",
              "      <td>[cherry, tree, wind]</td>\n",
              "    </tr>\n",
              "    <tr>\n",
              "      <th>4</th>\n",
              "      <td>Once upon a time, there was a little girl name...</td>\n",
              "      <td>A young girl named Lily, along with her cat an...</td>\n",
              "      <td>[lily, cobweb, lived, cat, dog]</td>\n",
              "      <td>[lily, cobweb, lived]</td>\n",
              "      <td>upon time little girl name like pretend popula...</td>\n",
              "      <td>time girl princess castle friend cat dog day c...</td>\n",
              "      <td>[cobweb, spider, cat, dog, castle]</td>\n",
              "      <td>[cobweb, spider, cat]</td>\n",
              "      <td>[cobweb, spider, cat, dog, castle]</td>\n",
              "      <td>[cobweb, spider, cat]</td>\n",
              "    </tr>\n",
              "  </tbody>\n",
              "</table>\n",
              "</div>\n",
              "    <div class=\"colab-df-buttons\">\n",
              "\n",
              "  <div class=\"colab-df-container\">\n",
              "    <button class=\"colab-df-convert\" onclick=\"convertToInteractive('df-8edf2abe-a158-45b9-b12b-f37409866ca3')\"\n",
              "            title=\"Convert this dataframe to an interactive table.\"\n",
              "            style=\"display:none;\">\n",
              "\n",
              "  <svg xmlns=\"http://www.w3.org/2000/svg\" height=\"24px\" viewBox=\"0 -960 960 960\">\n",
              "    <path d=\"M120-120v-720h720v720H120Zm60-500h600v-160H180v160Zm220 220h160v-160H400v160Zm0 220h160v-160H400v160ZM180-400h160v-160H180v160Zm440 0h160v-160H620v160ZM180-180h160v-160H180v160Zm440 0h160v-160H620v160Z\"/>\n",
              "  </svg>\n",
              "    </button>\n",
              "\n",
              "  <style>\n",
              "    .colab-df-container {\n",
              "      display:flex;\n",
              "      gap: 12px;\n",
              "    }\n",
              "\n",
              "    .colab-df-convert {\n",
              "      background-color: #E8F0FE;\n",
              "      border: none;\n",
              "      border-radius: 50%;\n",
              "      cursor: pointer;\n",
              "      display: none;\n",
              "      fill: #1967D2;\n",
              "      height: 32px;\n",
              "      padding: 0 0 0 0;\n",
              "      width: 32px;\n",
              "    }\n",
              "\n",
              "    .colab-df-convert:hover {\n",
              "      background-color: #E2EBFA;\n",
              "      box-shadow: 0px 1px 2px rgba(60, 64, 67, 0.3), 0px 1px 3px 1px rgba(60, 64, 67, 0.15);\n",
              "      fill: #174EA6;\n",
              "    }\n",
              "\n",
              "    .colab-df-buttons div {\n",
              "      margin-bottom: 4px;\n",
              "    }\n",
              "\n",
              "    [theme=dark] .colab-df-convert {\n",
              "      background-color: #3B4455;\n",
              "      fill: #D2E3FC;\n",
              "    }\n",
              "\n",
              "    [theme=dark] .colab-df-convert:hover {\n",
              "      background-color: #434B5C;\n",
              "      box-shadow: 0px 1px 3px 1px rgba(0, 0, 0, 0.15);\n",
              "      filter: drop-shadow(0px 1px 2px rgba(0, 0, 0, 0.3));\n",
              "      fill: #FFFFFF;\n",
              "    }\n",
              "  </style>\n",
              "\n",
              "    <script>\n",
              "      const buttonEl =\n",
              "        document.querySelector('#df-8edf2abe-a158-45b9-b12b-f37409866ca3 button.colab-df-convert');\n",
              "      buttonEl.style.display =\n",
              "        google.colab.kernel.accessAllowed ? 'block' : 'none';\n",
              "\n",
              "      async function convertToInteractive(key) {\n",
              "        const element = document.querySelector('#df-8edf2abe-a158-45b9-b12b-f37409866ca3');\n",
              "        const dataTable =\n",
              "          await google.colab.kernel.invokeFunction('convertToInteractive',\n",
              "                                                    [key], {});\n",
              "        if (!dataTable) return;\n",
              "\n",
              "        const docLinkHtml = 'Like what you see? Visit the ' +\n",
              "          '<a target=\"_blank\" href=https://colab.research.google.com/notebooks/data_table.ipynb>data table notebook</a>'\n",
              "          + ' to learn more about interactive tables.';\n",
              "        element.innerHTML = '';\n",
              "        dataTable['output_type'] = 'display_data';\n",
              "        await google.colab.output.renderOutput(dataTable, element);\n",
              "        const docLink = document.createElement('div');\n",
              "        docLink.innerHTML = docLinkHtml;\n",
              "        element.appendChild(docLink);\n",
              "      }\n",
              "    </script>\n",
              "  </div>\n",
              "\n",
              "\n",
              "<div id=\"df-85abd9ea-219b-466f-9280-f15b97c702f2\">\n",
              "  <button class=\"colab-df-quickchart\" onclick=\"quickchart('df-85abd9ea-219b-466f-9280-f15b97c702f2')\"\n",
              "            title=\"Suggest charts\"\n",
              "            style=\"display:none;\">\n",
              "\n",
              "<svg xmlns=\"http://www.w3.org/2000/svg\" height=\"24px\"viewBox=\"0 0 24 24\"\n",
              "     width=\"24px\">\n",
              "    <g>\n",
              "        <path d=\"M19 3H5c-1.1 0-2 .9-2 2v14c0 1.1.9 2 2 2h14c1.1 0 2-.9 2-2V5c0-1.1-.9-2-2-2zM9 17H7v-7h2v7zm4 0h-2V7h2v10zm4 0h-2v-4h2v4z\"/>\n",
              "    </g>\n",
              "</svg>\n",
              "  </button>\n",
              "\n",
              "<style>\n",
              "  .colab-df-quickchart {\n",
              "      --bg-color: #E8F0FE;\n",
              "      --fill-color: #1967D2;\n",
              "      --hover-bg-color: #E2EBFA;\n",
              "      --hover-fill-color: #174EA6;\n",
              "      --disabled-fill-color: #AAA;\n",
              "      --disabled-bg-color: #DDD;\n",
              "  }\n",
              "\n",
              "  [theme=dark] .colab-df-quickchart {\n",
              "      --bg-color: #3B4455;\n",
              "      --fill-color: #D2E3FC;\n",
              "      --hover-bg-color: #434B5C;\n",
              "      --hover-fill-color: #FFFFFF;\n",
              "      --disabled-bg-color: #3B4455;\n",
              "      --disabled-fill-color: #666;\n",
              "  }\n",
              "\n",
              "  .colab-df-quickchart {\n",
              "    background-color: var(--bg-color);\n",
              "    border: none;\n",
              "    border-radius: 50%;\n",
              "    cursor: pointer;\n",
              "    display: none;\n",
              "    fill: var(--fill-color);\n",
              "    height: 32px;\n",
              "    padding: 0;\n",
              "    width: 32px;\n",
              "  }\n",
              "\n",
              "  .colab-df-quickchart:hover {\n",
              "    background-color: var(--hover-bg-color);\n",
              "    box-shadow: 0 1px 2px rgba(60, 64, 67, 0.3), 0 1px 3px 1px rgba(60, 64, 67, 0.15);\n",
              "    fill: var(--button-hover-fill-color);\n",
              "  }\n",
              "\n",
              "  .colab-df-quickchart-complete:disabled,\n",
              "  .colab-df-quickchart-complete:disabled:hover {\n",
              "    background-color: var(--disabled-bg-color);\n",
              "    fill: var(--disabled-fill-color);\n",
              "    box-shadow: none;\n",
              "  }\n",
              "\n",
              "  .colab-df-spinner {\n",
              "    border: 2px solid var(--fill-color);\n",
              "    border-color: transparent;\n",
              "    border-bottom-color: var(--fill-color);\n",
              "    animation:\n",
              "      spin 1s steps(1) infinite;\n",
              "  }\n",
              "\n",
              "  @keyframes spin {\n",
              "    0% {\n",
              "      border-color: transparent;\n",
              "      border-bottom-color: var(--fill-color);\n",
              "      border-left-color: var(--fill-color);\n",
              "    }\n",
              "    20% {\n",
              "      border-color: transparent;\n",
              "      border-left-color: var(--fill-color);\n",
              "      border-top-color: var(--fill-color);\n",
              "    }\n",
              "    30% {\n",
              "      border-color: transparent;\n",
              "      border-left-color: var(--fill-color);\n",
              "      border-top-color: var(--fill-color);\n",
              "      border-right-color: var(--fill-color);\n",
              "    }\n",
              "    40% {\n",
              "      border-color: transparent;\n",
              "      border-right-color: var(--fill-color);\n",
              "      border-top-color: var(--fill-color);\n",
              "    }\n",
              "    60% {\n",
              "      border-color: transparent;\n",
              "      border-right-color: var(--fill-color);\n",
              "    }\n",
              "    80% {\n",
              "      border-color: transparent;\n",
              "      border-right-color: var(--fill-color);\n",
              "      border-bottom-color: var(--fill-color);\n",
              "    }\n",
              "    90% {\n",
              "      border-color: transparent;\n",
              "      border-bottom-color: var(--fill-color);\n",
              "    }\n",
              "  }\n",
              "</style>\n",
              "\n",
              "  <script>\n",
              "    async function quickchart(key) {\n",
              "      const quickchartButtonEl =\n",
              "        document.querySelector('#' + key + ' button');\n",
              "      quickchartButtonEl.disabled = true;  // To prevent multiple clicks.\n",
              "      quickchartButtonEl.classList.add('colab-df-spinner');\n",
              "      try {\n",
              "        const charts = await google.colab.kernel.invokeFunction(\n",
              "            'suggestCharts', [key], {});\n",
              "      } catch (error) {\n",
              "        console.error('Error during call to suggestCharts:', error);\n",
              "      }\n",
              "      quickchartButtonEl.classList.remove('colab-df-spinner');\n",
              "      quickchartButtonEl.classList.add('colab-df-quickchart-complete');\n",
              "    }\n",
              "    (() => {\n",
              "      let quickchartButtonEl =\n",
              "        document.querySelector('#df-85abd9ea-219b-466f-9280-f15b97c702f2 button');\n",
              "      quickchartButtonEl.style.display =\n",
              "        google.colab.kernel.accessAllowed ? 'block' : 'none';\n",
              "    })();\n",
              "  </script>\n",
              "</div>\n",
              "\n",
              "    </div>\n",
              "  </div>\n"
            ],
            "application/vnd.google.colaboratory.intrinsic+json": {
              "type": "dataframe",
              "variable_name": "df",
              "summary": "{\n  \"name\": \"df\",\n  \"rows\": 20000,\n  \"fields\": [\n    {\n      \"column\": \"text\",\n      \"properties\": {\n        \"dtype\": \"string\",\n        \"num_unique_values\": 20000,\n        \"samples\": [\n          \"Once upon a time, there was a girl. Her name was Lucy. She was three years old.\\n\\nOne day, Lucy wanted to go for an adventure. She put on her shoes and went for a walk in the park.\\n\\nAs she was walking, Lucy found something huge. It was a navy thing! She looked closer and saw it was the biggest ship she had ever seen.\\n\\nLucy was so excited that she had found the huge navy ship. She ran around it, touching its sides and wondeirng how it got so big.\\n\\nWhen her mom came to pick her up, Lucy was bursting with excitement. She told her mom all about her big discovery.\\n\\nThat day, Lucy felt so proud of herself. She was so happy to find the huge navy ship. The end.\",\n          \"One day, Mama and Mama's friend, Michelle, decided to go for a walk together. Mama was introducing Michelle to all of their neighbours. \\n\\nFirst, they came to the mailbox. Then, they stopped at Sally's front porch. Finally, they walked up to a big, tall house. \\n\\n\\u00e2\\u20ac\\u0153Ah, this is my house,\\u00e2\\u20ac said Mama. Inside, she opened the large, wooden cabinet and showed Michelle a present. \\n\\nMichelle was very excited, but she was also impatient. \\u00e2\\u20ac\\u0153Can I see it? Can I see it?\\u00e2\\u20ac\\n\\nMama smiled. \\u00e2\\u20ac\\u0153Sure you can!\\u00e2\\u20ac she said, and handed Michelle a big, colourful box. \\n\\nMichelle opened the box and jumped up and down. She was so happy - she was like a little jumping bean. \\n\\nMama laughed. \\u00e2\\u20ac\\u0153I'm so glad you like it,\\u00e2\\u20ac she said. \\n\\nMichelle agreed. \\u00e2\\u20ac\\u0153Me too! It's the best present ever!\\u00e2\\u20ac \\n\\nMama and Michelle hugged, and continued on their walk together.\",\n          \"Once upon a time there was a little boy called Bob and he was very excited one day when his mommy gave him a onion to match with. He was so grateful, because he had never had an onion before.\\n\\nBob was very excited and asked his mom: \\\"Mommy, what can I do with my onion?\\\" \\n\\nHis mom laughed and said, \\\"You can cook it and eat it!\\\" So, Bob ran off to get some butter to cook his onion with. He was so excited that he quickly matched the onion and butter together and was just about to put it in the oven when his mommy came back.\\n\\nMommy said, \\\"Oh Bob, why don't we cook the onion together? We can do it in no time!\\\"\\n\\nBob was so grateful that his mom would help him and, together, they cooked the onion and it tasted so delicious. From that day onwards, Bob was very happy to always have an onion to match with.\"\n        ],\n        \"semantic_type\": \"\",\n        \"description\": \"\"\n      }\n    },\n    {\n      \"column\": \"summary\",\n      \"properties\": {\n        \"dtype\": \"string\",\n        \"num_unique_values\": 20000,\n        \"samples\": [\n          \"Lucy, a three-year-old girl, goes on an adventure in the park and discovers a massive navy ship, which leaves her thrilled and proud of herself.\",\n          \"Mama and her friend Michelle go on a walk together, introducing Michelle to the neighbors, and Mama surprises her with a colorful gift, which brings Michelle immense joy and excitement.\",\n          \"Bob, a little boy excited to try an onion for the first time, learns to cook it with the help of his mother, discovering the joy of culinary collaboration and a delicious meal.\"\n        ],\n        \"semantic_type\": \"\",\n        \"description\": \"\"\n      }\n    },\n    {\n      \"column\": \"keywords_counter_top5\",\n      \"properties\": {\n        \"dtype\": \"object\",\n        \"semantic_type\": \"\",\n        \"description\": \"\"\n      }\n    },\n    {\n      \"column\": \"keywords_counter_top3\",\n      \"properties\": {\n        \"dtype\": \"object\",\n        \"semantic_type\": \"\",\n        \"description\": \"\"\n      }\n    },\n    {\n      \"column\": \"td_idf\",\n      \"properties\": {\n        \"dtype\": \"string\",\n        \"num_unique_values\": 20000,\n        \"samples\": [\n          \"upon time girl name three year old day want go adventure put shoe go walk park walk find something huge navy thing look closer saw big ship ever see excited find huge navy ship run around touch side wondeirng get big mom come pick burst excitement tell mom big discovery day felt proud happy find huge navy ship end\",\n          \"day friend decide go walk together introduce neighbour come mailbox stop front porch walk big tall house house say open large wooden cabinet show present excited also impatient see see smile say hand big colourful box open box jump happy like little jumping bean laugh glad like say agree best present ever hug continue walk together\",\n          \"upon time little boy call excited one day mommy give onion match grateful never onion excited ask mom onion mom laugh say cook eat run get butter cook onion excited quickly match onion butter together put oven mommy come back say cook onion together time grateful mom would help together cook onion taste delicious day onwards happy always onion match\"\n        ],\n        \"semantic_type\": \"\",\n        \"description\": \"\"\n      }\n    },\n    {\n      \"column\": \"td_idf_only_nouns\",\n      \"properties\": {\n        \"dtype\": \"string\",\n        \"num_unique_values\": 20000,\n        \"samples\": [\n          \"time girl name year day adventure shoe walk park something thing ship ship side mom excitement mom discovery day ship end\",\n          \"day friend walk neighbour mailbox porch house house cabinet box box bean walk\",\n          \"time boy day mommy onion onion mom onion mom butter onion onion butter oven mommy onion time mom onion day onwards onion\"\n        ],\n        \"semantic_type\": \"\",\n        \"description\": \"\"\n      }\n    },\n    {\n      \"column\": \"keywords_td_idf_top5\",\n      \"properties\": {\n        \"dtype\": \"object\",\n        \"semantic_type\": \"\",\n        \"description\": \"\"\n      }\n    },\n    {\n      \"column\": \"keywords_td_idf_top3\",\n      \"properties\": {\n        \"dtype\": \"object\",\n        \"semantic_type\": \"\",\n        \"description\": \"\"\n      }\n    },\n    {\n      \"column\": \"keywords_td_idf_only_nouns_top5\",\n      \"properties\": {\n        \"dtype\": \"object\",\n        \"semantic_type\": \"\",\n        \"description\": \"\"\n      }\n    },\n    {\n      \"column\": \"keywords_td_idf_only_nouns_top3\",\n      \"properties\": {\n        \"dtype\": \"object\",\n        \"semantic_type\": \"\",\n        \"description\": \"\"\n      }\n    }\n  ]\n}"
            }
          },
          "metadata": {},
          "execution_count": 68
        }
      ]
    }
  ]
}